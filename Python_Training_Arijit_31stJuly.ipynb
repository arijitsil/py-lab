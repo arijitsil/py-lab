{
 "cells": [
  {
   "cell_type": "code",
   "execution_count": 22,
   "metadata": {
    "collapsed": true
   },
   "outputs": [],
   "source": [
    "#operator overloading\n",
    "class time :\n",
    "    \n",
    "    def __init__(self,hr=0,mins=0):\n",
    "        self.hr = hr\n",
    "        self.mins = mins\n",
    "    def __add__(self,other):\n",
    "        total_hr = (self.hr + other.hr)*60\n",
    "        total_mins = (self.mins + other.mins)\n",
    "        \n",
    "        return time((total_hr+total_mins)//60,(total_hr+ total_mins) % 60)"
   ]
  },
  {
   "cell_type": "code",
   "execution_count": 15,
   "metadata": {
    "collapsed": true
   },
   "outputs": [],
   "source": [
    "time1 = time(1,10)\n",
    "time2 = time(2,20)\n",
    "time3 = time1+time2"
   ]
  },
  {
   "cell_type": "code",
   "execution_count": 17,
   "metadata": {},
   "outputs": [
    {
     "data": {
      "text/plain": [
       "3"
      ]
     },
     "execution_count": 17,
     "metadata": {},
     "output_type": "execute_result"
    }
   ],
   "source": [
    "time3.hr"
   ]
  },
  {
   "cell_type": "code",
   "execution_count": 18,
   "metadata": {},
   "outputs": [
    {
     "data": {
      "text/plain": [
       "30"
      ]
     },
     "execution_count": 18,
     "metadata": {},
     "output_type": "execute_result"
    }
   ],
   "source": [
    "time3.mins"
   ]
  },
  {
   "cell_type": "code",
   "execution_count": 19,
   "metadata": {
    "collapsed": true
   },
   "outputs": [],
   "source": [
    "time4 = time1+time2+time3"
   ]
  },
  {
   "cell_type": "code",
   "execution_count": 20,
   "metadata": {},
   "outputs": [
    {
     "data": {
      "text/plain": [
       "7"
      ]
     },
     "execution_count": 20,
     "metadata": {},
     "output_type": "execute_result"
    }
   ],
   "source": [
    "time4.hr"
   ]
  },
  {
   "cell_type": "code",
   "execution_count": 21,
   "metadata": {},
   "outputs": [
    {
     "data": {
      "text/plain": [
       "0"
      ]
     },
     "execution_count": 21,
     "metadata": {},
     "output_type": "execute_result"
    }
   ],
   "source": [
    "time4.mins"
   ]
  },
  {
   "cell_type": "code",
   "execution_count": 24,
   "metadata": {},
   "outputs": [
    {
     "ename": "SyntaxError",
     "evalue": "invalid syntax (<ipython-input-24-c08c811d77b5>, line 1)",
     "output_type": "error",
     "traceback": [
      "\u001b[1;36m  File \u001b[1;32m\"<ipython-input-24-c08c811d77b5>\"\u001b[1;36m, line \u001b[1;32m1\u001b[0m\n\u001b[1;33m    global x = 20\u001b[0m\n\u001b[1;37m             ^\u001b[0m\n\u001b[1;31mSyntaxError\u001b[0m\u001b[1;31m:\u001b[0m invalid syntax\n"
     ]
    }
   ],
   "source": [
    "global x = 20 \n",
    "def funca():\n",
    "    x = 30\n",
    "    print(x)"
   ]
  },
  {
   "cell_type": "code",
   "execution_count": 25,
   "metadata": {},
   "outputs": [
    {
     "data": {
      "application/json": {
       "cell": {
        "!": "OSMagics",
        "HTML": "Other",
        "SVG": "Other",
        "bash": "Other",
        "capture": "ExecutionMagics",
        "cmd": "Other",
        "debug": "ExecutionMagics",
        "file": "Other",
        "html": "DisplayMagics",
        "javascript": "DisplayMagics",
        "js": "DisplayMagics",
        "latex": "DisplayMagics",
        "perl": "Other",
        "prun": "ExecutionMagics",
        "pypy": "Other",
        "python": "Other",
        "python2": "Other",
        "python3": "Other",
        "ruby": "Other",
        "script": "ScriptMagics",
        "sh": "Other",
        "svg": "DisplayMagics",
        "sx": "OSMagics",
        "system": "OSMagics",
        "time": "ExecutionMagics",
        "timeit": "ExecutionMagics",
        "writefile": "OSMagics"
       },
       "line": {
        "alias": "OSMagics",
        "alias_magic": "BasicMagics",
        "autocall": "AutoMagics",
        "automagic": "AutoMagics",
        "autosave": "KernelMagics",
        "bookmark": "OSMagics",
        "cd": "OSMagics",
        "clear": "KernelMagics",
        "cls": "KernelMagics",
        "colors": "BasicMagics",
        "config": "ConfigMagics",
        "connect_info": "KernelMagics",
        "copy": "Other",
        "ddir": "Other",
        "debug": "ExecutionMagics",
        "dhist": "OSMagics",
        "dirs": "OSMagics",
        "doctest_mode": "BasicMagics",
        "echo": "Other",
        "ed": "Other",
        "edit": "KernelMagics",
        "env": "OSMagics",
        "gui": "BasicMagics",
        "hist": "Other",
        "history": "HistoryMagics",
        "killbgscripts": "ScriptMagics",
        "ldir": "Other",
        "less": "KernelMagics",
        "load": "CodeMagics",
        "load_ext": "ExtensionMagics",
        "loadpy": "CodeMagics",
        "logoff": "LoggingMagics",
        "logon": "LoggingMagics",
        "logstart": "LoggingMagics",
        "logstate": "LoggingMagics",
        "logstop": "LoggingMagics",
        "ls": "Other",
        "lsmagic": "BasicMagics",
        "macro": "ExecutionMagics",
        "magic": "BasicMagics",
        "matplotlib": "PylabMagics",
        "mkdir": "Other",
        "more": "KernelMagics",
        "notebook": "BasicMagics",
        "page": "BasicMagics",
        "pastebin": "CodeMagics",
        "pdb": "ExecutionMagics",
        "pdef": "NamespaceMagics",
        "pdoc": "NamespaceMagics",
        "pfile": "NamespaceMagics",
        "pinfo": "NamespaceMagics",
        "pinfo2": "NamespaceMagics",
        "popd": "OSMagics",
        "pprint": "BasicMagics",
        "precision": "BasicMagics",
        "profile": "BasicMagics",
        "prun": "ExecutionMagics",
        "psearch": "NamespaceMagics",
        "psource": "NamespaceMagics",
        "pushd": "OSMagics",
        "pwd": "OSMagics",
        "pycat": "OSMagics",
        "pylab": "PylabMagics",
        "qtconsole": "KernelMagics",
        "quickref": "BasicMagics",
        "recall": "HistoryMagics",
        "rehashx": "OSMagics",
        "reload_ext": "ExtensionMagics",
        "ren": "Other",
        "rep": "Other",
        "rerun": "HistoryMagics",
        "reset": "NamespaceMagics",
        "reset_selective": "NamespaceMagics",
        "rmdir": "Other",
        "run": "ExecutionMagics",
        "save": "CodeMagics",
        "sc": "OSMagics",
        "set_env": "OSMagics",
        "store": "StoreMagics",
        "sx": "OSMagics",
        "system": "OSMagics",
        "tb": "ExecutionMagics",
        "time": "ExecutionMagics",
        "timeit": "ExecutionMagics",
        "unalias": "OSMagics",
        "unload_ext": "ExtensionMagics",
        "who": "NamespaceMagics",
        "who_ls": "NamespaceMagics",
        "whos": "NamespaceMagics",
        "xdel": "NamespaceMagics",
        "xmode": "BasicMagics"
       }
      },
      "text/plain": [
       "Available line magics:\n",
       "%alias  %alias_magic  %autocall  %automagic  %autosave  %bookmark  %cd  %clear  %cls  %colors  %config  %connect_info  %copy  %ddir  %debug  %dhist  %dirs  %doctest_mode  %echo  %ed  %edit  %env  %gui  %hist  %history  %killbgscripts  %ldir  %less  %load  %load_ext  %loadpy  %logoff  %logon  %logstart  %logstate  %logstop  %ls  %lsmagic  %macro  %magic  %matplotlib  %mkdir  %more  %notebook  %page  %pastebin  %pdb  %pdef  %pdoc  %pfile  %pinfo  %pinfo2  %popd  %pprint  %precision  %profile  %prun  %psearch  %psource  %pushd  %pwd  %pycat  %pylab  %qtconsole  %quickref  %recall  %rehashx  %reload_ext  %ren  %rep  %rerun  %reset  %reset_selective  %rmdir  %run  %save  %sc  %set_env  %store  %sx  %system  %tb  %time  %timeit  %unalias  %unload_ext  %who  %who_ls  %whos  %xdel  %xmode\n",
       "\n",
       "Available cell magics:\n",
       "%%!  %%HTML  %%SVG  %%bash  %%capture  %%cmd  %%debug  %%file  %%html  %%javascript  %%js  %%latex  %%perl  %%prun  %%pypy  %%python  %%python2  %%python3  %%ruby  %%script  %%sh  %%svg  %%sx  %%system  %%time  %%timeit  %%writefile\n",
       "\n",
       "Automagic is ON, % prefix IS NOT needed for line magics."
      ]
     },
     "execution_count": 25,
     "metadata": {},
     "output_type": "execute_result"
    }
   ],
   "source": [
    "%lsmagic"
   ]
  },
  {
   "cell_type": "code",
   "execution_count": 26,
   "metadata": {},
   "outputs": [
    {
     "name": "stdout",
     "output_type": "stream",
     "text": [
      "Activating auto-logging. Current session state plus future input saved.\n",
      "Filename       : #Createlog file after running this command\n",
      "Mode           : backup\n",
      "Output logging : True\n",
      "Raw input log  : False\n",
      "Timestamping   : False\n",
      "State          : active\n"
     ]
    }
   ],
   "source": [
    "%logstart -o #Createlog file after running this command"
   ]
  },
  {
   "cell_type": "code",
   "execution_count": 28,
   "metadata": {},
   "outputs": [
    {
     "name": "stdout",
     "output_type": "stream",
     "text": [
      "File `mywork.py` exists. Overwrite (y/[N])?  y\n",
      "The following commands were written to file `mywork.py`:\n",
      "time1 = time(1,10)\n",
      "time2 = time(2,20)\n",
      "time3 = time1+time2\n",
      "time3.h\n",
      "time3.hr\n",
      "time3.mins\n",
      "time4 = time1+time2+time3\n",
      "time4.hr\n",
      "time4.mins\n",
      "#operator overloading\n",
      "class time :\n",
      "    \n",
      "    def __init__(self,hr=0,mins=0):\n",
      "        self.hr = hr\n",
      "        self.mins = mins\n",
      "    def __add__(self,other):\n",
      "        total_hr = (self.hr + other.hr)*60\n",
      "        total_mins = (self.mins + other.mins)\n",
      "        \n",
      "        return time((total_hr+total_mins)//60,(total_hr+ total_mins) % 60)\n"
     ]
    }
   ],
   "source": [
    "%save mywork 15-22"
   ]
  },
  {
   "cell_type": "code",
   "execution_count": 29,
   "metadata": {
    "collapsed": true
   },
   "outputs": [],
   "source": [
    "import math"
   ]
  },
  {
   "cell_type": "code",
   "execution_count": 73,
   "metadata": {
    "collapsed": true
   },
   "outputs": [],
   "source": [
    "\n",
    "class Fraction:\n",
    "    \n",
    "    def __init__(self,num=0,den=0):\n",
    "        self.num = num\n",
    "        self.den = den\n",
    "    def __add__(self,other):\n",
    "        \n",
    "        num1_den = (self.den * other.den) // (math.gcd(self.den,other.den))\n",
    "        num1_num = self.num * (num1_den / self.den ) + other.num * (num1_den / other.den) \n",
    "        return Fraction(int(num1_num),num1_den)"
   ]
  },
  {
   "cell_type": "code",
   "execution_count": 81,
   "metadata": {},
   "outputs": [
    {
     "name": "stdout",
     "output_type": "stream",
     "text": [
      "23\n",
      "56\n"
     ]
    }
   ],
   "source": [
    "fract1 = Fraction(1,8)\n",
    "fract2 = Fraction(2,7)\n",
    "fract3 = fract1 + fract2\n",
    "print(fract3.num)\n",
    "print(fract3.den)"
   ]
  },
  {
   "cell_type": "code",
   "execution_count": 45,
   "metadata": {
    "collapsed": true
   },
   "outputs": [],
   "source": [
    "class Chess_Board:\n",
    "    def __init__(self):\n",
    "        self.board = self.create_board()\n",
    "\n",
    "    def create_board(self):\n",
    "        board_x=[]\n",
    "\n",
    "        for x in range(8):\n",
    "            board_y =[]\n",
    "            for y in range(8):\n",
    "\n",
    "                board_y.append('.')\n",
    "\n",
    "            board_x.append(board_y)\n",
    "        board_x[0][4] = 'BQ'\n",
    "        board_x[7][3] = 'WQ'\n",
    "        return board_x\n",
    "    \n",
    "    def display(self):\n",
    "        for i in range (8):\n",
    "            for j in range (8):\n",
    "                print (self.board[i][j], end=' ')\n",
    "            print ()\n",
    "            \n",
    "   "
   ]
  },
  {
   "cell_type": "code",
   "execution_count": 47,
   "metadata": {},
   "outputs": [],
   "source": [
    "class WQ(Chess_Board):\n",
    "    def __init__(self):\n",
    "        Chess_Board.__init__(self)\n",
    "        self.position_x_WQ = 7\n",
    "        self.position_y_WQ = 3\n",
    "        self.symbol_WQ = 'WQ'\n",
    "\n",
    "    def move(self):\n",
    "        while True:\n",
    "            try:\n",
    "                print ('give a x and y coordinate for WHITE QUEEN')\n",
    "                destination_x_WQ = int(input())\n",
    "                destination_y_WQ = int(input())\n",
    "\n",
    "\n",
    "                if self.board[destination_x_WQ][destination_y_WQ] == '.' :\n",
    "\n",
    "                    if (destination_x_WQ == self.position_x_WQ or destination_y_WQ==self.position_y_WQ or abs(self.position_x_WQ-destination_x_WQ) == abs(self.position_y_WQ-destination_y_WQ) ):\n",
    "                        self.board[self.position_x_WQ][self.position_y_WQ] = '.'\n",
    "                        self.position_x_WQ = destination_x_WQ\n",
    "                        self.position_y_WQ = destination_y_WQ\n",
    "                        self.board[self.position_x_WQ][self.position_y_WQ] = self.symbol_WQ\n",
    "\n",
    "                        return self.board\n",
    "                        break\n",
    "\n",
    "                    else:\n",
    "                        print ('your move is invalid, please choose cooridnates again')\n",
    "                        continue\n",
    "\n",
    "            except ValueError:\n",
    "                print('Value can only be Integers')\n",
    "               "
   ]
  },
  {
   "cell_type": "code",
   "execution_count": 49,
   "metadata": {},
   "outputs": [],
   "source": [
    "class BQ(Chess_Board):\n",
    "    def __init__(self):\n",
    "        Chess_Board.__init__(self)\n",
    "        self.position_x_BQ = 0\n",
    "        self.position_y_BQ = 4\n",
    "        self.symbol_BQ = 'BQ'\n",
    "\n",
    "    def move(self):\n",
    "        while True:\n",
    "            try:\n",
    "                print ('give a x and y coordinate for BLACK QUEEN')\n",
    "                destination_x_BQ = int(input())\n",
    "                destination_y_BQ = int(input())\n",
    "\n",
    "\n",
    "                if self.board[destination_x_BQ][destination_y_BQ] == '.' :\n",
    "\n",
    "                    if (destination_x_BQ == self.position_x_BQ or destination_y_BQ==self.position_y_BQ \n",
    "                        or abs(self.position_x_BQ - destination_x_BQ) == abs(self.position_y_BQ-destination_y_BQ) ):\n",
    "                        self.board[self.position_x_BQ][self.position_y_BQ] = '.'\n",
    "                        self.position_x_BQ = destination_x_BQ\n",
    "                        self.position_y_BQ = destination_y_BQ\n",
    "                        self.board[self.position_x_BQ][self.position_y_BQ] = self.symbol_BQ\n",
    "\n",
    "                        return self.board\n",
    "                        break\n",
    "\n",
    "                    else:\n",
    "                        print ('your move is invalid, please choose cooridnates again')\n",
    "                        continue\n",
    "\n",
    "            except ValueError:\n",
    "                print('Value can only be Integers')"
   ]
  },
  {
   "cell_type": "code",
   "execution_count": 77,
   "metadata": {},
   "outputs": [],
   "source": [
    "class Run(Chess_Board):\n",
    "\n",
    "    def __init__(self):\n",
    "        BQ.__init__(self)\n",
    "        WQ.__init__(self)\n",
    "        Chess_Board.__init__(self)\n",
    "        \n",
    "    def checkWinner(self):\n",
    "        if (self.position_x_WQ == self.position_x_BQ or self.position_y_WQ==self.position_y_BQ or abs(self.position_x_BQ - self.position_x_WQ) == abs(self.position_y_BQ-self.position_y_WQ)):\n",
    "            return True\n",
    "        else:\n",
    "            return False\n",
    "    def play(self):\n",
    "        print('Please write what color you wanna choose : B or W')\n",
    "        try:\n",
    "            choice=str(input())\n",
    "            while not(self.checkWinner()):\n",
    "                if choice == 'B':\n",
    "                    choice ='W'\n",
    "                    BQ.move(self)\n",
    "                    self.display()\n",
    "                elif choice == 'W':\n",
    "                    choice ='B'\n",
    "                    WQ.move(self)\n",
    "                    self.display()\n",
    "            print('The Winner is::{}'.format(choice))\n",
    "        except ValueError:\n",
    "            print('Only Can be String')\n",
    "    def display(self):\n",
    "        for i in range (8):\n",
    "            for j in range (8):\n",
    "                print (self.board[i][j], end=' ')\n",
    "            print ()\n",
    "            \n",
    "    "
   ]
  },
  {
   "cell_type": "code",
   "execution_count": 80,
   "metadata": {},
   "outputs": [
    {
     "name": "stdout",
     "output_type": "stream",
     "text": [
      ". . . . BQ . . . \n",
      ". . . . . . . . \n",
      ". . . . . . . . \n",
      ". . . . . . . . \n",
      ". . . . . . . . \n",
      ". . . . . . . . \n",
      ". . . . . . . . \n",
      ". . . WQ . . . . \n",
      "Please write what color you wanna choose : B or W\n",
      "B\n",
      "give a x and y coordinate for BLACK QUEEN\n",
      "1\n",
      "3\n",
      ". . . . . . . . \n",
      ". . . BQ . . . . \n",
      ". . . . . . . . \n",
      ". . . . . . . . \n",
      ". . . . . . . . \n",
      ". . . . . . . . \n",
      ". . . . . . . . \n",
      ". . . WQ . . . . \n",
      "The Winner is::W\n"
     ]
    }
   ],
   "source": [
    "chess = Run()\n",
    "chess.display()\n",
    "chess.play()\n"
   ]
  },
  {
   "cell_type": "code",
   "execution_count": 81,
   "metadata": {},
   "outputs": [
    {
     "name": "stdout",
     "output_type": "stream",
     "text": [
      " Volume in drive C is WINDOWS 10 OS [1809]\n",
      " Volume Serial Number is F0D2-3746\n",
      "\n",
      " Directory of C:\\Users\\Training\n",
      "\n",
      "07/31/2019  01:49 PM            36,411 #Createlog file after running this command\n",
      "07/31/2019  02:57 PM    <DIR>          .\n",
      "07/31/2019  02:57 PM    <DIR>          ..\n",
      "07/31/2019  09:28 AM    <DIR>          .anaconda\n",
      "07/31/2019  02:57 PM    <DIR>          .conda\n",
      "07/31/2019  09:29 AM                43 .condarc\n",
      "07/31/2019  02:57 PM    <DIR>          .ipynb_checkpoints\n",
      "07/31/2019  09:30 AM    <DIR>          .ipython\n",
      "07/27/2019  05:44 PM    <DIR>          3D Objects\n",
      "07/31/2019  09:46 AM    <DIR>          AnacondaProjects\n",
      "07/31/2019  02:57 PM                72 Arijit_Python_Training_31stJuly_2ndHalf.ipynb\n",
      "07/27/2019  05:44 PM    <DIR>          Contacts\n",
      "07/27/2019  05:44 PM    <DIR>          Desktop\n",
      "07/27/2019  05:44 PM    <DIR>          Documents\n",
      "07/27/2019  05:44 PM    <DIR>          Downloads\n",
      "07/27/2019  05:44 PM    <DIR>          Favorites\n",
      "07/27/2019  05:44 PM    <DIR>          Links\n",
      "07/27/2019  12:33 PM    <DIR>          mcafee dlp quarantined files\n",
      "07/27/2019  05:44 PM    <DIR>          Music\n",
      "07/31/2019  11:38 AM               493 mywork.py\n",
      "07/27/2019  12:35 PM    <DIR>          OneDrive\n",
      "07/27/2019  05:44 PM    <DIR>          Pictures\n",
      "07/31/2019  02:57 PM            17,978 Python_Training_Arijit_31stJuly.ipynb\n",
      "07/27/2019  05:44 PM    <DIR>          Saved Games\n",
      "07/27/2019  05:44 PM    <DIR>          Searches\n",
      "07/31/2019  01:45 PM             9,555 Untitled.ipynb\n",
      "07/27/2019  05:44 PM    <DIR>          Videos\n",
      "               6 File(s)         64,552 bytes\n",
      "              21 Dir(s)  517,978,939,392 bytes free\n"
     ]
    }
   ],
   "source": [
    "%ls"
   ]
  },
  {
   "cell_type": "code",
   "execution_count": null,
   "metadata": {
    "collapsed": true
   },
   "outputs": [],
   "source": []
  }
 ],
 "metadata": {
  "kernelspec": {
   "display_name": "Python 3",
   "language": "python",
   "name": "python3"
  },
  "language_info": {
   "codemirror_mode": {
    "name": "ipython",
    "version": 3
   },
   "file_extension": ".py",
   "mimetype": "text/x-python",
   "name": "python",
   "nbconvert_exporter": "python",
   "pygments_lexer": "ipython3",
   "version": "3.6.1"
  }
 },
 "nbformat": 4,
 "nbformat_minor": 2
}
